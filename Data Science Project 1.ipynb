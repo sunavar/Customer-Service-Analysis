{
 "cells": [
  {
   "cell_type": "code",
   "execution_count": 1,
   "metadata": {},
   "outputs": [
    {
     "name": "stderr",
     "output_type": "stream",
     "text": [
      "C:\\Users\\singh\\Anaconda3\\lib\\site-packages\\IPython\\core\\interactiveshell.py:3058: DtypeWarning: Columns (48,49) have mixed types. Specify dtype option on import or set low_memory=False.\n",
      "  interactivity=interactivity, compiler=compiler, result=result)\n"
     ]
    },
    {
     "name": "stdout",
     "output_type": "stream",
     "text": [
      "   Unique Key            Created Date    Closed Date Agency  \\\n",
      "0    32310363  12/31/2015 11:59:45 PM  01-01-16 0:55   NYPD   \n",
      "1    32309934  12/31/2015 11:59:44 PM  01-01-16 1:26   NYPD   \n",
      "2    32309159  12/31/2015 11:59:29 PM  01-01-16 4:51   NYPD   \n",
      "3    32305098  12/31/2015 11:57:46 PM  01-01-16 7:43   NYPD   \n",
      "4    32306529  12/31/2015 11:56:58 PM  01-01-16 3:24   NYPD   \n",
      "\n",
      "                       Agency Name           Complaint Type  \\\n",
      "0  New York City Police Department  Noise - Street/Sidewalk   \n",
      "1  New York City Police Department         Blocked Driveway   \n",
      "2  New York City Police Department         Blocked Driveway   \n",
      "3  New York City Police Department          Illegal Parking   \n",
      "4  New York City Police Department          Illegal Parking   \n",
      "\n",
      "                     Descriptor    Location Type  Incident Zip  \\\n",
      "0              Loud Music/Party  Street/Sidewalk       10034.0   \n",
      "1                     No Access  Street/Sidewalk       11105.0   \n",
      "2                     No Access  Street/Sidewalk       10458.0   \n",
      "3  Commercial Overnight Parking  Street/Sidewalk       10461.0   \n",
      "4              Blocked Sidewalk  Street/Sidewalk       11373.0   \n",
      "\n",
      "        Incident Address  ... Bridge Highway Name Bridge Highway Direction  \\\n",
      "0    71 VERMILYEA AVENUE  ...                 NaN                      NaN   \n",
      "1        27-07 23 AVENUE  ...                 NaN                      NaN   \n",
      "2  2897 VALENTINE AVENUE  ...                 NaN                      NaN   \n",
      "3    2940 BAISLEY AVENUE  ...                 NaN                      NaN   \n",
      "4          87-14 57 ROAD  ...                 NaN                      NaN   \n",
      "\n",
      "  Road Ramp Bridge Highway Segment Garage Lot Name Ferry Direction  \\\n",
      "0       NaN                    NaN             NaN             NaN   \n",
      "1       NaN                    NaN             NaN             NaN   \n",
      "2       NaN                    NaN             NaN             NaN   \n",
      "3       NaN                    NaN             NaN             NaN   \n",
      "4       NaN                    NaN             NaN             NaN   \n",
      "\n",
      "  Ferry Terminal Name   Latitude  Longitude  \\\n",
      "0                 NaN  40.865682 -73.923501   \n",
      "1                 NaN  40.775945 -73.915094   \n",
      "2                 NaN  40.870325 -73.888525   \n",
      "3                 NaN  40.835994 -73.828379   \n",
      "4                 NaN  40.733060 -73.874170   \n",
      "\n",
      "                                   Location  \n",
      "0   (40.86568153633767, -73.92350095571744)  \n",
      "1  (40.775945312321085, -73.91509393898605)  \n",
      "2  (40.870324522111424, -73.88852464418646)  \n",
      "3   (40.83599404683083, -73.82837939584206)  \n",
      "4  (40.733059618956815, -73.87416975810375)  \n",
      "\n",
      "[5 rows x 53 columns]\n"
     ]
    }
   ],
   "source": [
    "import pandas as pd\n",
    "import matplotlib.pyplot as plt\n",
    "import numpy as np\n",
    "# 1.Import a 311 NYC service request.\n",
    "\n",
    "df=pd.read_csv(r'C:\\Users\\singh\\Documents\\Data Science using Python Project 1\\311_Service_Requests_from_2010_to_Present.csv')\n",
    "\n",
    "print(df.head())"
   ]
  },
  {
   "cell_type": "code",
   "execution_count": 2,
   "metadata": {},
   "outputs": [
    {
     "name": "stdout",
     "output_type": "stream",
     "text": [
      "(300698, 53)\n"
     ]
    }
   ],
   "source": [
    "print(df.shape)"
   ]
  },
  {
   "cell_type": "code",
   "execution_count": 3,
   "metadata": {},
   "outputs": [
    {
     "name": "stdout",
     "output_type": "stream",
     "text": [
      "Unique Key                             0\n",
      "Created Date                           0\n",
      "Closed Date                         2164\n",
      "Agency                                 0\n",
      "Agency Name                            0\n",
      "Complaint Type                         0\n",
      "Descriptor                          5914\n",
      "Location Type                        131\n",
      "Incident Zip                        2615\n",
      "Incident Address                   44410\n",
      "Street Name                        44410\n",
      "Cross Street 1                     49279\n",
      "Cross Street 2                     49779\n",
      "Intersection Street 1             256840\n",
      "Intersection Street 2             257336\n",
      "Address Type                        2815\n",
      "City                                2614\n",
      "Landmark                          300349\n",
      "Facility Type                       2171\n",
      "Status                                 0\n",
      "Due Date                               3\n",
      "Resolution Description                 0\n",
      "Resolution Action Updated Date      2187\n",
      "Community Board                        0\n",
      "Borough                                0\n",
      "X Coordinate (State Plane)          3540\n",
      "Y Coordinate (State Plane)          3540\n",
      "Park Facility Name                     0\n",
      "Park Borough                           0\n",
      "School Name                            0\n",
      "School Number                          0\n",
      "School Region                          1\n",
      "School Code                            1\n",
      "School Phone Number                    0\n",
      "School Address                         0\n",
      "School City                            0\n",
      "School State                           0\n",
      "School Zip                             1\n",
      "School Not Found                       0\n",
      "School or Citywide Complaint      300698\n",
      "Vehicle Type                      300698\n",
      "Taxi Company Borough              300698\n",
      "Taxi Pick Up Location             300698\n",
      "Bridge Highway Name               300455\n",
      "Bridge Highway Direction          300455\n",
      "Road Ramp                         300485\n",
      "Bridge Highway Segment            300485\n",
      "Garage Lot Name                   300698\n",
      "Ferry Direction                   300697\n",
      "Ferry Terminal Name               300696\n",
      "Latitude                            3540\n",
      "Longitude                           3540\n",
      "Location                            3540\n",
      "dtype: int64\n"
     ]
    }
   ],
   "source": [
    "print(df.isnull().sum())"
   ]
  },
  {
   "cell_type": "code",
   "execution_count": 4,
   "metadata": {},
   "outputs": [
    {
     "name": "stdout",
     "output_type": "stream",
     "text": [
      "Unique Key                          int64\n",
      "Created Date                       object\n",
      "Closed Date                        object\n",
      "Agency                             object\n",
      "Agency Name                        object\n",
      "Complaint Type                     object\n",
      "Descriptor                         object\n",
      "Location Type                      object\n",
      "Incident Zip                      float64\n",
      "Incident Address                   object\n",
      "Street Name                        object\n",
      "Cross Street 1                     object\n",
      "Cross Street 2                     object\n",
      "Intersection Street 1              object\n",
      "Intersection Street 2              object\n",
      "Address Type                       object\n",
      "City                               object\n",
      "Landmark                           object\n",
      "Facility Type                      object\n",
      "Status                             object\n",
      "Due Date                           object\n",
      "Resolution Description             object\n",
      "Resolution Action Updated Date     object\n",
      "Community Board                    object\n",
      "Borough                            object\n",
      "X Coordinate (State Plane)        float64\n",
      "Y Coordinate (State Plane)        float64\n",
      "Park Facility Name                 object\n",
      "Park Borough                       object\n",
      "School Name                        object\n",
      "School Number                      object\n",
      "School Region                      object\n",
      "School Code                        object\n",
      "School Phone Number                object\n",
      "School Address                     object\n",
      "School City                        object\n",
      "School State                       object\n",
      "School Zip                         object\n",
      "School Not Found                   object\n",
      "School or Citywide Complaint      float64\n",
      "Vehicle Type                      float64\n",
      "Taxi Company Borough              float64\n",
      "Taxi Pick Up Location             float64\n",
      "Bridge Highway Name                object\n",
      "Bridge Highway Direction           object\n",
      "Road Ramp                          object\n",
      "Bridge Highway Segment             object\n",
      "Garage Lot Name                   float64\n",
      "Ferry Direction                    object\n",
      "Ferry Terminal Name                object\n",
      "Latitude                          float64\n",
      "Longitude                         float64\n",
      "Location                           object\n",
      "dtype: object\n"
     ]
    }
   ],
   "source": [
    "print(df.dtypes)"
   ]
  },
  {
   "cell_type": "code",
   "execution_count": 5,
   "metadata": {},
   "outputs": [
    {
     "name": "stdout",
     "output_type": "stream",
     "text": [
      "datetime64[ns]\n"
     ]
    }
   ],
   "source": [
    "# 2. Read or convert the columns ‘Created Date’ and Closed Date’ to datetime datatype and create a new column ‘Request_Closing_Time’ as the time elapsed between request creation and request closing.\n",
    "\n",
    "import datetime as dt\n",
    "import datetime, time\n",
    "\n",
    "df['Created Date'] = pd.to_datetime(df['Created Date'])\n",
    "print(df['Created Date'].dtype)"
   ]
  },
  {
   "cell_type": "code",
   "execution_count": 6,
   "metadata": {},
   "outputs": [
    {
     "name": "stdout",
     "output_type": "stream",
     "text": [
      "datetime64[ns]\n"
     ]
    }
   ],
   "source": [
    "df['Closed Date'] = pd.to_datetime(df['Closed Date'])\n",
    "print(df['Closed Date'].dtype)"
   ]
  },
  {
   "cell_type": "code",
   "execution_count": 7,
   "metadata": {},
   "outputs": [
    {
     "name": "stdout",
     "output_type": "stream",
     "text": [
      "0   00:55:15\n",
      "1   01:26:16\n",
      "2   04:51:31\n",
      "3   07:45:14\n",
      "4   03:27:02\n",
      "Name: Request_Closing_Time, dtype: timedelta64[ns]\n"
     ]
    }
   ],
   "source": [
    "df['Request_Closing_Time'] = df['Closed Date'] - df['Created Date']\n",
    "print(df['Request_Closing_Time'].head())"
   ]
  },
  {
   "cell_type": "code",
   "execution_count": 9,
   "metadata": {},
   "outputs": [
    {
     "name": "stdout",
     "output_type": "stream",
     "text": [
      "Blocked Driveway             77044\n",
      "Illegal Parking              75361\n",
      "Noise - Street/Sidewalk      48612\n",
      "Noise - Commercial           35577\n",
      "Derelict Vehicle             17718\n",
      "Noise - Vehicle              17083\n",
      "Animal Abuse                  7778\n",
      "Traffic                       4498\n",
      "Homeless Encampment           4416\n",
      "Noise - Park                  4042\n",
      "Vending                       3802\n",
      "Drinking                      1280\n",
      "Noise - House of Worship       931\n",
      "Posting Advertisement          650\n",
      "Urinating in Public            592\n",
      "Bike/Roller/Skate Chronic      427\n",
      "Panhandling                    307\n",
      "Disorderly Youth               286\n",
      "Illegal Fireworks              168\n",
      "Graffiti                       113\n",
      "Agency Issues                    6\n",
      "Squeegee                         4\n",
      "Ferry Complaint                  2\n",
      "Animal in a Park                 1\n",
      "Name: Complaint Type, dtype: int64\n"
     ]
    }
   ],
   "source": [
    "# 3. Provide major insights/patterns that you can offer in a visual format (graphs or tables); at least 4 major conclusions that you can come up with after generic data mining.\n",
    "# Conclusion 1: Frequency of each complain type\n",
    "\n",
    "print(df['Complaint Type'].value_counts())"
   ]
  },
  {
   "cell_type": "code",
   "execution_count": 10,
   "metadata": {},
   "outputs": [
    {
     "data": {
      "image/png": "[encoded data removed]",
      "text/plain": [
       "<Figure size 1440x720 with 1 Axes>"
      ]
     },
     "metadata": {
      "needs_background": "light"
     },
     "output_type": "display_data"
    }
   ],
   "source": [
    "df['Complaint Type'].value_counts().plot(kind=\"bar\", color=list('rgbkymc'), figsize=(20,10))\n",
    "plt.show()"
   ]
  },
  {
   "cell_type": "code",
   "execution_count": 11,
   "metadata": {},
   "outputs": [
    {
     "name": "stdout",
     "output_type": "stream",
     "text": [
      "Closed      298471\n",
      "Open          1439\n",
      "Assigned       786\n",
      "Draft            2\n",
      "Name: Status, dtype: int64\n"
     ]
    }
   ],
   "source": [
    "# Conclusion 2: Status of Complaints \n",
    "\n",
    "print(df['Status'].value_counts())"
   ]
  },
  {
   "cell_type": "code",
   "execution_count": 12,
   "metadata": {},
   "outputs": [
    {
     "data": {
      "image/png": "[encoded data removed]",
      "text/plain": [
       "<Figure size 1440x720 with 1 Axes>"
      ]
     },
     "metadata": {
      "needs_background": "light"
     },
     "output_type": "display_data"
    }
   ],
   "source": [
    "df['Status'].value_counts().plot(kind=\"barh\", color=list('rgbkymc'), figsize=(20,10))\n",
    "plt.show()"
   ]
  },
  {
   "cell_type": "code",
   "execution_count": 13,
   "metadata": {},
   "outputs": [
    {
     "name": "stdout",
     "output_type": "stream",
     "text": [
      "BROOKLYN               98307\n",
      "NEW YORK               65994\n",
      "BRONX                  40702\n",
      "STATEN ISLAND          12343\n",
      "JAMAICA                 7296\n",
      "ASTORIA                 6330\n",
      "FLUSHING                5971\n",
      "RIDGEWOOD               5163\n",
      "CORONA                  4295\n",
      "WOODSIDE                3544\n",
      "SOUTH RICHMOND HILL     2774\n",
      "OZONE PARK              2755\n",
      "EAST ELMHURST           2734\n",
      "ELMHURST                2673\n",
      "WOODHAVEN               2464\n",
      "MASPETH                 2462\n",
      "LONG ISLAND CITY        2437\n",
      "SOUTH OZONE PARK        2173\n",
      "RICHMOND HILL           1904\n",
      "FRESH MEADOWS           1899\n",
      "QUEENS VILLAGE          1814\n",
      "MIDDLE VILLAGE          1765\n",
      "JACKSON HEIGHTS         1689\n",
      "FOREST HILLS            1688\n",
      "REGO PARK               1486\n",
      "BAYSIDE                 1221\n",
      "COLLEGE POINT           1220\n",
      "FAR ROCKAWAY            1179\n",
      "WHITESTONE              1098\n",
      "HOLLIS                  1012\n",
      "HOWARD BEACH             931\n",
      "ROSEDALE                 922\n",
      "SPRINGFIELD GARDENS      883\n",
      "SAINT ALBANS             834\n",
      "KEW GARDENS              771\n",
      "ROCKAWAY PARK            745\n",
      "SUNNYSIDE                723\n",
      "Astoria                  717\n",
      "LITTLE NECK              559\n",
      "OAKLAND GARDENS          551\n",
      "CAMBRIA HEIGHTS          477\n",
      "BELLEROSE                375\n",
      "GLEN OAKS                306\n",
      "ARVERNE                  220\n",
      "FLORAL PARK              152\n",
      "Long Island City         134\n",
      "Woodside                 120\n",
      "NEW HYDE PARK             98\n",
      "CENTRAL PARK              97\n",
      "QUEENS                    32\n",
      "BREEZY POINT              30\n",
      "East Elmhurst             14\n",
      "Howard Beach               1\n",
      "Name: City, dtype: int64\n"
     ]
    }
   ],
   "source": [
    "# Conclusion 3: Frequency of complaints from different cities\n",
    "\n",
    "print(df['City'].value_counts())"
   ]
  },
  {
   "cell_type": "code",
   "execution_count": 14,
   "metadata": {},
   "outputs": [
    {
     "data": {
      "image/png": "[encoded data removed]",
      "text/plain": [
       "<Figure size 1440x720 with 1 Axes>"
      ]
     },
     "metadata": {
      "needs_background": "light"
     },
     "output_type": "display_data"
    }
   ],
   "source": [
    "df['City'].value_counts().plot(kind=\"bar\", color=list('rgbkymc'), figsize=(20,10))\n",
    "plt.show()"
   ]
  },
  {
   "cell_type": "code",
   "execution_count": 15,
   "metadata": {},
   "outputs": [],
   "source": [
    "# Conclusion 4: \n",
    "\n",
    "def toHour(timeDel):\n",
    "    days = timeDel.days\n",
    "    hours = round(timeDel.seconds/3600, 2)\n",
    "    result = (days * 24) + hours\n",
    "    return result"
   ]
  },
  {
   "cell_type": "code",
   "execution_count": 16,
   "metadata": {},
   "outputs": [
    {
     "name": "stdout",
     "output_type": "stream",
     "text": [
      "0    0.92\n",
      "1    1.44\n",
      "2    4.86\n",
      "3    7.75\n",
      "4    3.45\n",
      "Name: Request_Closing_In_Hour, dtype: float64\n"
     ]
    }
   ],
   "source": [
    "df['Request_Closing_In_Hour'] = df['Request_Closing_Time'].apply(toHour)\n",
    "print(df['Request_Closing_In_Hour'].head())"
   ]
  },
  {
   "cell_type": "code",
   "execution_count": 17,
   "metadata": {},
   "outputs": [
    {
     "data": {
      "text/plain": [
       "0    Excellent\n",
       "1    Very Good\n",
       "2      Average\n",
       "3         Poor\n",
       "4         Good\n",
       "Name: Request_Closing_Time_Category, dtype: object"
      ]
     },
     "execution_count": 17,
     "metadata": {},
     "output_type": "execute_result"
    }
   ],
   "source": [
    "import math\n",
    "def hourToCategory(hr):\n",
    "    if (math.isnan(hr)):\n",
    "        return 'Unspecified'\n",
    "    elif (hr <= 1.0):\n",
    "        return 'Excellent'\n",
    "    elif (hr>1.0 and hr<= 2.0):\n",
    "        return 'Very Good'\n",
    "    elif (hr>2.0 and hr<= 4.0):\n",
    "        return 'Good'\n",
    "    elif (hr>4.0 and hr<=6.0):\n",
    "        return 'Average'\n",
    "    else:\n",
    "        return 'Poor'\n",
    "    \n",
    "df['Request_Closing_Time_Category'] = df['Request_Closing_In_Hour'].apply(hourToCategory)\n",
    "df['Request_Closing_Time_Category'].head()"
   ]
  },
  {
   "cell_type": "code",
   "execution_count": 18,
   "metadata": {},
   "outputs": [
    {
     "name": "stdout",
     "output_type": "stream",
     "text": [
      "Good           76888\n",
      "Poor           63197\n",
      "Very Good      58598\n",
      "Excellent      57608\n",
      "Average        42243\n",
      "Unspecified     2164\n",
      "Name: Request_Closing_Time_Category, dtype: int64\n"
     ]
    }
   ],
   "source": [
    "print(df['Request_Closing_Time_Category'].value_counts())"
   ]
  },
  {
   "cell_type": "code",
   "execution_count": 19,
   "metadata": {},
   "outputs": [
    {
     "data": {
      "image/png": "[encoded data removed]",
      "text/plain": [
       "<Figure size 432x288 with 1 Axes>"
      ]
     },
     "metadata": {},
     "output_type": "display_data"
    }
   ],
   "source": [
    "df['Request_Closing_Time_Category'].value_counts().plot(kind='pie',autopct='%1.1f%%', startangle=90)\n",
    "plt.show()"
   ]
  },
  {
   "cell_type": "code",
   "execution_count": 20,
   "metadata": {},
   "outputs": [
    {
     "name": "stdout",
     "output_type": "stream",
     "text": [
      "1     Jan\n",
      "2     Feb\n",
      "3     Mar\n",
      "4     Apr\n",
      "5     May\n",
      "6     Jun\n",
      "7     Jul\n",
      "8     Aug\n",
      "9     Sep\n",
      "10    Oct\n",
      "11    Nov\n",
      "12    Dec\n",
      "dtype: object\n",
      "Dec\n"
     ]
    }
   ],
   "source": [
    "# Conclusion 5\n",
    "months = pd.Series({1: 'Jan', 2: 'Feb', 3: 'Mar', 4: 'Apr', 5: 'May', 6: 'Jun', 7: 'Jul', 8: 'Aug', 9: 'Sep', 10: 'Oct', 11: 'Nov', 12: 'Dec'})\n",
    "print(months)\n",
    "print(months[12])"
   ]
  },
  {
   "cell_type": "code",
   "execution_count": 21,
   "metadata": {},
   "outputs": [],
   "source": [
    "def getMonth(Date):\n",
    "    a = str(Date)\n",
    "    date = datetime.datetime.strptime(a, \"%Y-%m-%d %H:%M:%S\")\n",
    "    return months[date.month]"
   ]
  },
  {
   "cell_type": "code",
   "execution_count": 22,
   "metadata": {},
   "outputs": [
    {
     "name": "stdout",
     "output_type": "stream",
     "text": [
      "0         Dec\n",
      "1         Dec\n",
      "2         Dec\n",
      "3         Dec\n",
      "4         Dec\n",
      "         ... \n",
      "300693    Mar\n",
      "300694    Mar\n",
      "300695    Mar\n",
      "300696    Mar\n",
      "300697    Mar\n",
      "Name: Created_Month, Length: 300698, dtype: object\n"
     ]
    }
   ],
   "source": [
    "df['Created_Month'] = df['Created Date'].apply(getMonth)\n",
    "print(df['Created_Month'])"
   ]
  },
  {
   "cell_type": "code",
   "execution_count": 23,
   "metadata": {},
   "outputs": [
    {
     "name": "stdout",
     "output_type": "stream",
     "text": [
      "May    36437\n",
      "Sep    35427\n",
      "Jun    35315\n",
      "Aug    34956\n",
      "Jul    34888\n",
      "Oct    32605\n",
      "Nov    30773\n",
      "Dec    30521\n",
      "Apr    27305\n",
      "Mar     2471\n",
      "Name: Created_Month, dtype: int64\n"
     ]
    }
   ],
   "source": [
    "print(df['Created_Month'].value_counts())"
   ]
  },
  {
   "cell_type": "code",
   "execution_count": 24,
   "metadata": {},
   "outputs": [
    {
     "data": {
      "image/png": "[encoded data removed]",
      "text/plain": [
       "<Figure size 1080x360 with 1 Axes>"
      ]
     },
     "metadata": {
      "needs_background": "light"
     },
     "output_type": "display_data"
    }
   ],
   "source": [
    "df['Created_Month'].value_counts().plot(kind=\"barh\", color=list('rgbkymc'), figsize=(15,5))\n",
    "plt.show()"
   ]
  },
  {
   "cell_type": "code",
   "execution_count": 25,
   "metadata": {},
   "outputs": [
    {
     "name": "stdout",
     "output_type": "stream",
     "text": [
      "2614\n"
     ]
    }
   ],
   "source": [
    "# 4. Order the complaint types based on the average ‘Request_Closing_Time’, grouping them for different locations.\n",
    "\n",
    "print(df['City'].isnull().sum())"
   ]
  },
  {
   "cell_type": "code",
   "execution_count": 26,
   "metadata": {},
   "outputs": [
    {
     "name": "stdout",
     "output_type": "stream",
     "text": [
      "0    NEW YORK\n",
      "1     ASTORIA\n",
      "2       BRONX\n",
      "3       BRONX\n",
      "4    ELMHURST\n",
      "Name: City, dtype: object\n"
     ]
    }
   ],
   "source": [
    "df['City'].fillna('NA', inplace=True)\n",
    "\n",
    "print(df['City'].head())"
   ]
  },
  {
   "cell_type": "code",
   "execution_count": 27,
   "metadata": {},
   "outputs": [],
   "source": [
    "grouped_df=df.groupby(['City', 'Complaint Type'])"
   ]
  },
  {
   "cell_type": "code",
   "execution_count": 28,
   "metadata": {},
   "outputs": [
    {
     "name": "stdout",
     "output_type": "stream",
     "text": [
      "City      Complaint Type         \n",
      "ARVERNE   Animal Abuse               2.153158\n",
      "          Blocked Driveway           2.526000\n",
      "          Derelict Vehicle           2.968889\n",
      "          Disorderly Youth           3.595000\n",
      "          Drinking                   0.240000\n",
      "                                       ...   \n",
      "Woodside  Blocked Driveway           6.405455\n",
      "          Derelict Vehicle           4.965000\n",
      "          Illegal Parking            5.219500\n",
      "          Noise - Commercial         2.390000\n",
      "          Noise - Street/Sidewalk    3.410000\n",
      "Name: Request_Closing_In_Hour, Length: 782, dtype: float64\n"
     ]
    }
   ],
   "source": [
    "RC_mean = grouped_df.mean()['Request_Closing_In_Hour']\n",
    "print(RC_mean)"
   ]
  },
  {
   "cell_type": "code",
   "execution_count": 29,
   "metadata": {},
   "outputs": [
    {
     "name": "stdout",
     "output_type": "stream",
     "text": [
      "4\n"
     ]
    }
   ],
   "source": [
    "print(RC_mean.isnull().sum())"
   ]
  },
  {
   "cell_type": "code",
   "execution_count": 30,
   "metadata": {},
   "outputs": [
    {
     "name": "stdout",
     "output_type": "stream",
     "text": [
      "                                  Request_Closing_In_Hour\n",
      "City     Complaint Type                                  \n",
      "ARVERNE  Animal Abuse                            2.153158\n",
      "         Blocked Driveway                        2.526000\n",
      "         Derelict Vehicle                        2.968889\n",
      "         Disorderly Youth                        3.595000\n",
      "         Drinking                                0.240000\n",
      "...                                                   ...\n",
      "Woodside Blocked Driveway                        6.405455\n",
      "         Derelict Vehicle                        4.965000\n",
      "         Illegal Parking                         5.219500\n",
      "         Noise - Commercial                      2.390000\n",
      "         Noise - Street/Sidewalk                 3.410000\n",
      "\n",
      "[782 rows x 1 columns]\n"
     ]
    }
   ],
   "source": [
    "grouped_df = df.groupby(['City','Complaint Type']).agg({'Request_Closing_In_Hour': 'mean'})\n",
    "print(grouped_df)"
   ]
  },
  {
   "cell_type": "code",
   "execution_count": 31,
   "metadata": {},
   "outputs": [
    {
     "name": "stdout",
     "output_type": "stream",
     "text": [
      "                               Request_Closing_In_Hour\n",
      "City Complaint Type                                   \n",
      "NA   Ferry Complaint                               NaN\n",
      "     Noise - House of Worship                      NaN\n",
      "     Panhandling                                   NaN\n",
      "     Posting Advertisement                         NaN\n"
     ]
    }
   ],
   "source": [
    "print(grouped_df[grouped_df['Request_Closing_In_Hour'].isnull()])"
   ]
  },
  {
   "cell_type": "code",
   "execution_count": 32,
   "metadata": {},
   "outputs": [],
   "source": [
    "grouped_df=grouped_df.dropna()"
   ]
  },
  {
   "cell_type": "code",
   "execution_count": 33,
   "metadata": {},
   "outputs": [
    {
     "name": "stdout",
     "output_type": "stream",
     "text": [
      "Request_Closing_In_Hour    0\n",
      "dtype: int64\n"
     ]
    }
   ],
   "source": [
    "print(grouped_df.isnull().sum())"
   ]
  },
  {
   "cell_type": "code",
   "execution_count": 34,
   "metadata": {},
   "outputs": [
    {
     "name": "stdout",
     "output_type": "stream",
     "text": [
      "                                  Request_Closing_In_Hour\n",
      "City     Complaint Type                                  \n",
      "ARVERNE  Animal Abuse                            2.153158\n",
      "         Blocked Driveway                        2.526000\n",
      "         Derelict Vehicle                        2.968889\n",
      "         Disorderly Youth                        3.595000\n",
      "         Drinking                                0.240000\n",
      "...                                                   ...\n",
      "Woodside Blocked Driveway                        6.405455\n",
      "         Derelict Vehicle                        4.965000\n",
      "         Illegal Parking                         5.219500\n",
      "         Noise - Commercial                      2.390000\n",
      "         Noise - Street/Sidewalk                 3.410000\n",
      "\n",
      "[778 rows x 1 columns]\n"
     ]
    }
   ],
   "source": [
    "print(grouped_df)"
   ]
  },
  {
   "cell_type": "code",
   "execution_count": 35,
   "metadata": {},
   "outputs": [
    {
     "name": "stdout",
     "output_type": "stream",
     "text": [
      "                                  Request_Closing_In_Hour\n",
      "City     Complaint Type                                  \n",
      "ARVERNE  Drinking                                0.240000\n",
      "         Vending                                 0.480000\n",
      "         Urinating in Public                     0.690000\n",
      "         Panhandling                             1.030000\n",
      "         Noise - Park                            1.285000\n",
      "...                                                   ...\n",
      "Woodside Noise - Commercial                      2.390000\n",
      "         Noise - Street/Sidewalk                 3.410000\n",
      "         Derelict Vehicle                        4.965000\n",
      "         Illegal Parking                         5.219500\n",
      "         Blocked Driveway                        6.405455\n",
      "\n",
      "[778 rows x 1 columns]\n"
     ]
    }
   ],
   "source": [
    "df2=grouped_df.sort_values(['City', 'Request_Closing_In_Hour'])\n",
    "print(df2)"
   ]
  },
  {
   "cell_type": "code",
   "execution_count": 36,
   "metadata": {},
   "outputs": [
    {
     "name": "stdout",
     "output_type": "stream",
     "text": [
      "Blocked Driveway             77044\n",
      "Illegal Parking              75361\n",
      "Noise - Street/Sidewalk      48612\n",
      "Noise - Commercial           35577\n",
      "Derelict Vehicle             17718\n",
      "Noise - Vehicle              17083\n",
      "Animal Abuse                  7778\n",
      "Traffic                       4498\n",
      "Homeless Encampment           4416\n",
      "Noise - Park                  4042\n",
      "Vending                       3802\n",
      "Drinking                      1280\n",
      "Noise - House of Worship       931\n",
      "Posting Advertisement          650\n",
      "Urinating in Public            592\n",
      "Bike/Roller/Skate Chronic      427\n",
      "Panhandling                    307\n",
      "Disorderly Youth               286\n",
      "Illegal Fireworks              168\n",
      "Graffiti                       113\n",
      "Agency Issues                    6\n",
      "Squeegee                         4\n",
      "Ferry Complaint                  2\n",
      "Animal in a Park                 1\n",
      "Name: Complaint Type, dtype: int64\n"
     ]
    }
   ],
   "source": [
    "#5. Perform a statistical test for the following:\n",
    "#Please note: For the below statements you need to state the Null and Alternate and then provide a statistical test to accept or reject the Null Hypothesis along with the corresponding ‘p-value’.\n",
    "\n",
    "#Whether the average response time across complaint types is similar or not (overall)\n",
    "#Are the type of complaint or service requested and location related?\n",
    "\n",
    "import scipy.stats as stats\n",
    "\n",
    "# Since we have to compare average of more than two variables. Therefore, we use ANOVA for Part 1 - #Whether the average response time across complaint types is similar or not (overall)\n",
    "\n",
    "# Null hypothesis H0 : All Complain Types average response time mean is similar\n",
    "# Alternate hypothesis H1 : All Complain Types average response time mean is Not similar\n",
    "\n",
    "print(df['Complaint Type'].value_counts())"
   ]
  },
  {
   "cell_type": "code",
   "execution_count": 37,
   "metadata": {},
   "outputs": [
    {
     "name": "stdout",
     "output_type": "stream",
     "text": [
      "Blocked Driveway           77044\n",
      "Illegal Parking            75361\n",
      "Noise - Street/Sidewalk    48612\n",
      "Noise - Commercial         35577\n",
      "Derelict Vehicle           17718\n",
      "Name: Complaint Type, dtype: int64\n"
     ]
    }
   ],
   "source": [
    "top_complaints_type = df['Complaint Type'].value_counts()[:5]\n",
    "print(top_complaints_type)"
   ]
  },
  {
   "cell_type": "code",
   "execution_count": 38,
   "metadata": {},
   "outputs": [
    {
     "name": "stdout",
     "output_type": "stream",
     "text": [
      "Index(['Blocked Driveway', 'Illegal Parking', 'Noise - Street/Sidewalk',\n",
      "       'Noise - Commercial', 'Derelict Vehicle'],\n",
      "      dtype='object')\n"
     ]
    }
   ],
   "source": [
    "top_complaints_type_names = top_complaints_type.index\n",
    "print(top_complaints_type_names)"
   ]
  },
  {
   "cell_type": "code",
   "execution_count": 39,
   "metadata": {},
   "outputs": [
    {
     "name": "stdout",
     "output_type": "stream",
     "text": [
      "            Complaint Type  Request_Closing_In_Hour\n",
      "0  Noise - Street/Sidewalk                     0.92\n",
      "1         Blocked Driveway                     1.44\n",
      "2         Blocked Driveway                     4.86\n",
      "3          Illegal Parking                     7.75\n",
      "4          Illegal Parking                     3.45\n"
     ]
    }
   ],
   "source": [
    "sample = df.loc[df['Complaint Type'].isin(top_complaints_type_names), ['Complaint Type', 'Request_Closing_In_Hour']]\n",
    "print(sample.head())"
   ]
  },
  {
   "cell_type": "code",
   "execution_count": 40,
   "metadata": {},
   "outputs": [
    {
     "name": "stdout",
     "output_type": "stream",
     "text": [
      "(254312, 2)\n"
     ]
    }
   ],
   "source": [
    "print(sample.shape)"
   ]
  },
  {
   "cell_type": "code",
   "execution_count": 41,
   "metadata": {},
   "outputs": [],
   "source": [
    "sample.dropna(inplace=True)"
   ]
  },
  {
   "cell_type": "code",
   "execution_count": 42,
   "metadata": {},
   "outputs": [
    {
     "name": "stdout",
     "output_type": "stream",
     "text": [
      "Complaint Type             0\n",
      "Request_Closing_In_Hour    0\n",
      "dtype: int64\n"
     ]
    }
   ],
   "source": [
    "print(sample.isnull().sum())"
   ]
  },
  {
   "cell_type": "code",
   "execution_count": 43,
   "metadata": {},
   "outputs": [
    {
     "name": "stdout",
     "output_type": "stream",
     "text": [
      "3    7.75\n",
      "4    3.45\n",
      "5    1.89\n",
      "6    1.96\n",
      "8    8.55\n",
      "Name: Request_Closing_In_Hour, dtype: float64\n"
     ]
    }
   ],
   "source": [
    "set1 = sample[sample['Complaint Type'] == top_complaints_type_names[1]].Request_Closing_In_Hour\n",
    "print(set1.head())"
   ]
  },
  {
   "cell_type": "code",
   "execution_count": 44,
   "metadata": {},
   "outputs": [
    {
     "name": "stdout",
     "output_type": "stream",
     "text": [
      "0     0.92\n",
      "12    2.48\n",
      "19    0.78\n",
      "38    0.49\n",
      "54    1.50\n",
      "Name: Request_Closing_In_Hour, dtype: float64\n"
     ]
    }
   ],
   "source": [
    "set2 = sample[sample['Complaint Type'] == top_complaints_type_names[2]].Request_Closing_In_Hour\n",
    "print(set2.head())"
   ]
  },
  {
   "cell_type": "code",
   "execution_count": 45,
   "metadata": {},
   "outputs": [
    {
     "name": "stdout",
     "output_type": "stream",
     "text": [
      "17    0.85\n",
      "18    2.93\n",
      "22    1.26\n",
      "29    2.50\n",
      "30    1.99\n",
      "Name: Request_Closing_In_Hour, dtype: float64\n"
     ]
    }
   ],
   "source": [
    "set3 = sample[sample['Complaint Type'] == top_complaints_type_names[3]].Request_Closing_In_Hour\n",
    "print(set3.head())"
   ]
  },
  {
   "cell_type": "code",
   "execution_count": 46,
   "metadata": {},
   "outputs": [
    {
     "name": "stdout",
     "output_type": "stream",
     "text": [
      "14     10.49\n",
      "151     3.95\n",
      "255     1.36\n",
      "256     4.13\n",
      "295     0.75\n",
      "Name: Request_Closing_In_Hour, dtype: float64\n"
     ]
    }
   ],
   "source": [
    "set4 = sample[sample['Complaint Type'] == top_complaints_type_names[4]].Request_Closing_In_Hour\n",
    "print(set4.head())\n"
   ]
  },
  {
   "cell_type": "code",
   "execution_count": 48,
   "metadata": {},
   "outputs": [
    {
     "name": "stdout",
     "output_type": "stream",
     "text": [
      "1     1.44\n",
      "2     4.86\n",
      "7     1.80\n",
      "9     1.38\n",
      "10    7.80\n",
      "Name: Request_Closing_In_Hour, dtype: float64\n"
     ]
    }
   ],
   "source": [
    "set5 = sample[sample['Complaint Type'] == top_complaints_type_names[0]].Request_Closing_In_Hour\n",
    "print(set5.head())"
   ]
  },
  {
   "cell_type": "code",
   "execution_count": 50,
   "metadata": {},
   "outputs": [
    {
     "name": "stdout",
     "output_type": "stream",
     "text": [
      "1799.5986832389517 0.0\n"
     ]
    }
   ],
   "source": [
    "stat,pvalue=stats.f_oneway(set1, set2, set3, set4, set5)\n",
    "print(stat,pvalue)"
   ]
  },
  {
   "cell_type": "code",
   "execution_count": 51,
   "metadata": {},
   "outputs": [
    {
     "name": "stdout",
     "output_type": "stream",
     "text": [
      "Reject Null Hypothesis.\n",
      "    All Complain Types average response time mean is Not similar\n"
     ]
    }
   ],
   "source": [
    "# Since, pvalue<0.05 we reject null hypothesis.\n",
    "# Therefore, All Complain Types average response time mean is Not similar\n",
    "\n",
    "if(pvalue<0.05):\n",
    "    print(\"\"\"Reject Null Hypothesis.\n",
    "    All Complain Types average response time mean is Not similar\"\"\")\n",
    "else:\n",
    "    print(\"\"\"Accept Null Hypothesis.\n",
    "    All Complain Types average response time mean is similar \"\"\")    "
   ]
  },
  {
   "cell_type": "code",
   "execution_count": 52,
   "metadata": {},
   "outputs": [
    {
     "name": "stdout",
     "output_type": "stream",
     "text": [
      "BROOKLYN         98307\n",
      "NEW YORK         65994\n",
      "BRONX            40702\n",
      "STATEN ISLAND    12343\n",
      "JAMAICA           7296\n",
      "Name: City, dtype: int64\n"
     ]
    }
   ],
   "source": [
    "# Try ChiSquare Test for part2  -  Are the type of complaint or service requested and location related?\n",
    "\n",
    "# Null Hypothesis H0 : Complain Type and Location is not related\n",
    "# Alternate Hypothesis H1 : Complain Type and Location is related\n",
    "\n",
    "from scipy.stats import chi2_contingency\n",
    "top_location = df['City'].value_counts()[:5]\n",
    "print(top_location)"
   ]
  },
  {
   "cell_type": "code",
   "execution_count": 53,
   "metadata": {},
   "outputs": [
    {
     "name": "stdout",
     "output_type": "stream",
     "text": [
      "Index(['BROOKLYN', 'NEW YORK', 'BRONX', 'STATEN ISLAND', 'JAMAICA'], dtype='object')\n"
     ]
    }
   ],
   "source": [
    "top_location_names = top_location.index\n",
    "print(top_location_names)"
   ]
  },
  {
   "cell_type": "code",
   "execution_count": 54,
   "metadata": {},
   "outputs": [
    {
     "name": "stdout",
     "output_type": "stream",
     "text": [
      "            Complaint Type      City\n",
      "0  Noise - Street/Sidewalk  NEW YORK\n",
      "2         Blocked Driveway     BRONX\n",
      "3          Illegal Parking     BRONX\n",
      "5          Illegal Parking  BROOKLYN\n",
      "6          Illegal Parking  NEW YORK\n"
     ]
    }
   ],
   "source": [
    "sample2 = df.loc[(df['Complaint Type'].isin(top_complaints_type_names)) & (df['City'].isin(top_location_names)), ['Complaint Type', 'City']]\n",
    "print(sample2.head())"
   ]
  },
  {
   "cell_type": "code",
   "execution_count": 55,
   "metadata": {},
   "outputs": [
    {
     "name": "stdout",
     "output_type": "stream",
     "text": [
      "City                     BRONX  BROOKLYN  JAMAICA  NEW YORK  STATEN ISLAND\n",
      "Complaint Type                                                            \n",
      "Blocked Driveway         12755     28148     2818      2072           2142\n",
      "Derelict Vehicle          1953      5181      954       537           1766\n",
      "Illegal Parking           7859     27462     1421     12128           4886\n",
      "Noise - Commercial        2434     11463      429     14550            678\n",
      "Noise - Street/Sidewalk   8892     13356      339     20433            819\n"
     ]
    }
   ],
   "source": [
    "C_table=pd.crosstab(sample2['Complaint Type'], sample2['City'])\n",
    "print(C_table)"
   ]
  },
  {
   "cell_type": "code",
   "execution_count": 57,
   "metadata": {},
   "outputs": [
    {
     "name": "stdout",
     "output_type": "stream",
     "text": [
      "40522.79928349593\n",
      "0.0\n",
      "16\n",
      "[[ 8759.46060116 22125.43658175  1540.58786899 12849.86224559\n",
      "   2659.65270252]\n",
      " [ 1898.81203936  4796.19091522   333.95741205  2785.49950128\n",
      "    576.54013209]\n",
      " [ 9823.16812508 24812.24510042  1727.6695835  14410.28882599\n",
      "   2982.62836501]\n",
      " [ 5400.58618143 13641.28825987   949.83902952  7922.49564631\n",
      "   1639.79088287]\n",
      " [ 8010.97305297 20234.83914274  1408.94610594 11751.85378083\n",
      "   2432.38791751]]\n"
     ]
    }
   ],
   "source": [
    "ch2, p, dof, tb1 = chi2_contingency(C_table)\n",
    "print(ch2)\n",
    "print(p)\n",
    "print(dof)\n",
    "print(tb1)"
   ]
  },
  {
   "cell_type": "code",
   "execution_count": 58,
   "metadata": {},
   "outputs": [
    {
     "name": "stdout",
     "output_type": "stream",
     "text": [
      "Reject Null Hypothesis.\n",
      "    Complain Type and Location is related\n"
     ]
    }
   ],
   "source": [
    "# Since, p<0.05 we reject null hypothesis.\n",
    "# Therefore, Complain Type and Location is related\n",
    "\n",
    "if(pvalue<0.05):\n",
    "    print(\"\"\"Reject Null Hypothesis.\n",
    "    Complain Type and Location is related\"\"\")\n",
    "else:\n",
    "    print(\"\"\"Accept Null Hypothesis.\n",
    "     Complain Type and Location is not related\"\"\")"
   ]
  },
  {
   "cell_type": "code",
   "execution_count": null,
   "metadata": {},
   "outputs": [],
   "source": []
  }
 ],
 "metadata": {
  "kernelspec": {
   "display_name": "Python 3",
   "language": "python",
   "name": "python3"
  },
  "language_info": {
   "codemirror_mode": {
    "name": "ipython",
    "version": 3
   },
   "file_extension": ".py",
   "mimetype": "text/x-python",
   "name": "python",
   "nbconvert_exporter": "python",
   "pygments_lexer": "ipython3",
   "version": "3.8.5"
  }
 },
 "nbformat": 4,
 "nbformat_minor": 4
}
